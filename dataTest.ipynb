{
 "cells": [
  {
   "cell_type": "code",
   "execution_count": 2,
   "metadata": {},
   "outputs": [
    {
     "name": "stderr",
     "output_type": "stream",
     "text": [
      "################################################################################\n",
      "### WARNING, path does not exist: KALDI_ROOT=/mnt/matylda5/iveselyk/Tools/kaldi-trunk\n",
      "###          (please add 'export KALDI_ROOT=<your_path>' in your $HOME/.profile)\n",
      "###          (or run as: KALDI_ROOT=<your_path> python <your_script>.py)\n",
      "################################################################################\n",
      "\n"
     ]
    }
   ],
   "source": [
    "import torch\n",
    "import torch.utils.data as data\n",
    "from config import LIDConfig\n",
    "from Datasets.datasetLID import LIDDataset, collate_fn, collate_fn_mixup\n",
    "\n",
    "hparams = LIDConfig()\n",
    "\n",
    "## Validation Dataset\n",
    "valid_set = LIDDataset(\n",
    "    CSVPath = hparams.val_path,\n",
    "    hparams = hparams,\n",
    "    is_train=True\n",
    "    )\n",
    "\n",
    "## Validation Dataloader\n",
    "valloader = data.DataLoader(\n",
    "    valid_set, \n",
    "    batch_size=hparams.batch_size,\n",
    "    shuffle=False, \n",
    "    num_workers=hparams.n_workers,\n",
    "    collate_fn = collate_fn,\n",
    "    )\n"
   ]
  },
  {
   "cell_type": "code",
   "execution_count": 5,
   "metadata": {},
   "outputs": [
    {
     "data": {
      "image/png": "[encoded data removed]",
      "text/plain": [
       "<Figure size 432x288 with 1 Axes>"
      ]
     },
     "metadata": {
      "needs_background": "light"
     },
     "output_type": "display_data"
    }
   ],
   "source": [
    "import matplotlib.pyplot as plt\n",
    "item = valid_set[0]\n",
    "x = item[0]\n",
    "xhat = item[1] \n",
    "\n",
    "plt.plot(x.numpy().reshape(-1))\n",
    "# plt.plot(xhat.numpy().reshape(-1))\n",
    "plt.show()"
   ]
  },
  {
   "cell_type": "code",
   "execution_count": 41,
   "metadata": {},
   "outputs": [
    {
     "data": {
      "text/plain": [
       "[<matplotlib.lines.Line2D at 0x7f1d807dc970>]"
      ]
     },
     "execution_count": 41,
     "metadata": {},
     "output_type": "execute_result"
    },
    {
     "data": {
      "image/png": "[encoded data removed]",
      "text/plain": [
       "<Figure size 432x288 with 1 Axes>"
      ]
     },
     "metadata": {
      "needs_background": "light"
     },
     "output_type": "display_data"
    }
   ],
   "source": [
    "import random\n",
    "import matplotlib.pyplot as plt\n",
    "idx = int(random.random()*len(valid_set))\n",
    "\n",
    "val_wav = valid_set[idx][0]\n",
    "plt.plot(val_wav.numpy().reshape(-1))"
   ]
  },
  {
   "cell_type": "code",
   "execution_count": 25,
   "metadata": {},
   "outputs": [
    {
     "data": {
      "text/html": [
       "<div>\n",
       "<style scoped>\n",
       "    .dataframe tbody tr th:only-of-type {\n",
       "        vertical-align: middle;\n",
       "    }\n",
       "\n",
       "    .dataframe tbody tr th {\n",
       "        vertical-align: top;\n",
       "    }\n",
       "\n",
       "    .dataframe thead th {\n",
       "        text-align: right;\n",
       "    }\n",
       "</style>\n",
       "<table border=\"1\" class=\"dataframe\">\n",
       "  <thead>\n",
       "    <tr style=\"text-align: right;\">\n",
       "      <th></th>\n",
       "      <th>audiopath</th>\n",
       "      <th>class</th>\n",
       "      <th>seconds</th>\n",
       "    </tr>\n",
       "  </thead>\n",
       "  <tbody>\n",
       "    <tr>\n",
       "      <th>0</th>\n",
       "      <td>/root/LRE2017Dataset/LRE2017/LDC2017E23_2017_N...</td>\n",
       "      <td>eng-usg</td>\n",
       "      <td>30</td>\n",
       "    </tr>\n",
       "    <tr>\n",
       "      <th>1</th>\n",
       "      <td>/root/LRE2017Dataset/LRE2017/LDC2017E23_2017_N...</td>\n",
       "      <td>zho-nan</td>\n",
       "      <td>10</td>\n",
       "    </tr>\n",
       "    <tr>\n",
       "      <th>2</th>\n",
       "      <td>/root/LRE2017Dataset/LRE2017/LDC2017E23_2017_N...</td>\n",
       "      <td>qsl-rus</td>\n",
       "      <td>3</td>\n",
       "    </tr>\n",
       "    <tr>\n",
       "      <th>3</th>\n",
       "      <td>/root/LRE2017Dataset/LRE2017/LDC2017E23_2017_N...</td>\n",
       "      <td>ara-ary</td>\n",
       "      <td>30</td>\n",
       "    </tr>\n",
       "    <tr>\n",
       "      <th>4</th>\n",
       "      <td>/root/LRE2017Dataset/LRE2017/LDC2017E23_2017_N...</td>\n",
       "      <td>ara-acm</td>\n",
       "      <td>30</td>\n",
       "    </tr>\n",
       "  </tbody>\n",
       "</table>\n",
       "</div>"
      ],
      "text/plain": [
       "                                           audiopath    class  seconds\n",
       "0  /root/LRE2017Dataset/LRE2017/LDC2017E23_2017_N...  eng-usg       30\n",
       "1  /root/LRE2017Dataset/LRE2017/LDC2017E23_2017_N...  zho-nan       10\n",
       "2  /root/LRE2017Dataset/LRE2017/LDC2017E23_2017_N...  qsl-rus        3\n",
       "3  /root/LRE2017Dataset/LRE2017/LDC2017E23_2017_N...  ara-ary       30\n",
       "4  /root/LRE2017Dataset/LRE2017/LDC2017E23_2017_N...  ara-acm       30"
      ]
     },
     "execution_count": 25,
     "metadata": {},
     "output_type": "execute_result"
    }
   ],
   "source": [
    "import pandas as pd\n",
    "\n",
    "data_path = \"/root/LRE2017Dataset/LRE2017/lre17-val-set-less-than-60.csv\"\n",
    "\n",
    "df = pd.read_csv(data_path)\n",
    "df.head()"
   ]
  },
  {
   "cell_type": "code",
   "execution_count": 20,
   "metadata": {},
   "outputs": [
    {
     "name": "stdout",
     "output_type": "stream",
     "text": [
      "716960 24000 169068.4625044851\n"
     ]
    }
   ],
   "source": [
    "import librosa\n",
    "\n",
    "audio_lens = []\n",
    "for index, row in df.iterrows():\n",
    "    path = row[\"audiopath\"]\n",
    "    wav, _ = librosa.load(path, sr=8000) \n",
    "    audio_lens.append(len(wav))\n",
    "\n",
    "print(max(audio_lens), min(audio_lens), sum(audio_lens)/len(audio_lens))"
   ]
  },
  {
   "cell_type": "code",
   "execution_count": 22,
   "metadata": {},
   "outputs": [
    {
     "data": {
      "text/plain": [
       "(array([1367.,  356.,   93.,  404.,  210.,  146.,  102.,   60.,   31.,\n",
       "          18.]),\n",
       " array([ 24000.,  93296., 162592., 231888., 301184., 370480., 439776.,\n",
       "        509072., 578368., 647664., 716960.]),\n",
       " <BarContainer object of 10 artists>)"
      ]
     },
     "execution_count": 22,
     "metadata": {},
     "output_type": "execute_result"
    },
    {
     "data": {
      "image/png": "[encoded data removed]",
      "text/plain": [
       "<Figure size 432x288 with 1 Axes>"
      ]
     },
     "metadata": {
      "needs_background": "light"
     },
     "output_type": "display_data"
    }
   ],
   "source": [
    "plt.hist(audio_lens)"
   ]
  },
  {
   "cell_type": "code",
   "execution_count": 37,
   "metadata": {},
   "outputs": [
    {
     "data": {
      "text/plain": [
       "(array([867., 500., 231., 125.,  60.,  33., 279., 125., 109., 101.,  78.,\n",
       "         68.,  61.,  41.,  32.,  28.,  11.,  20.,  14.,   4.]),\n",
       " array([ 1.5   ,  3.6655,  5.831 ,  7.9965, 10.162 , 12.3275, 14.493 ,\n",
       "        16.6585, 18.824 , 20.9895, 23.155 , 25.3205, 27.486 , 29.6515,\n",
       "        31.817 , 33.9825, 36.148 , 38.3135, 40.479 , 42.6445, 44.81  ]),\n",
       " <BarContainer object of 20 artists>)"
      ]
     },
     "execution_count": 37,
     "metadata": {},
     "output_type": "execute_result"
    },
    {
     "data": {
      "image/png": "[encoded data removed]",
      "text/plain": [
       "<Figure size 432x288 with 1 Axes>"
      ]
     },
     "metadata": {
      "needs_background": "light"
     },
     "output_type": "display_data"
    }
   ],
   "source": [
    "plt.hist([i/16000 for i in audio_lens], bins=20)"
   ]
  },
  {
   "cell_type": "code",
   "execution_count": null,
   "metadata": {},
   "outputs": [],
   "source": []
  }
 ],
 "metadata": {
  "kernelspec": {
   "display_name": "Python 3.9.2 64-bit ('3.9.2')",
   "language": "python",
   "name": "python3"
  },
  "language_info": {
   "codemirror_mode": {
    "name": "ipython",
    "version": 3
   },
   "file_extension": ".py",
   "mimetype": "text/x-python",
   "name": "python",
   "nbconvert_exporter": "python",
   "pygments_lexer": "ipython3",
   "version": "3.9.2"
  },
  "orig_nbformat": 4,
  "vscode": {
   "interpreter": {
    "hash": "2d7b087156161fb625e4a6c422e95b511bfa45e0ec345ce3e52f6d7ffde7b07a"
   }
  }
 },
 "nbformat": 4,
 "nbformat_minor": 2
}
