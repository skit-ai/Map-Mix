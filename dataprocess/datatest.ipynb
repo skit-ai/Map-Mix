{
 "cells": [
  {
   "cell_type": "code",
   "execution_count": 2,
   "metadata": {},
   "outputs": [
    {
     "name": "stderr",
     "output_type": "stream",
     "text": [
      "################################################################################\n",
      "### WARNING, path does not exist: KALDI_ROOT=/mnt/matylda5/iveselyk/Tools/kaldi-trunk\n",
      "###          (please add 'export KALDI_ROOT=<your_path>' in your $HOME/.profile)\n",
      "###          (or run as: KALDI_ROOT=<your_path> python <your_script>.py)\n",
      "################################################################################\n",
      "\n"
     ]
    }
   ],
   "source": [
    "import os\n",
    "from argparse import ArgumentParser\n",
    "\n",
    "import torch\n",
    "import torch.utils.data as data\n",
    "from config import LIDConfig\n",
    "from Datasets.datasetLID import collate_fn\n",
    "import matplotlib.pyplot as plt\n",
    "import pytorch_lightning as pl\n",
    "from tqdm import tqdm\n",
    "\n",
    "# SEED=100\n",
    "# pl.utilities.seed.seed_everything(SEED)\n",
    "# torch.manual_seed(SEED)\n",
    "\n",
    "\n",
    "hparams = LIDConfig()\n",
    "\n",
    "import pandas as pd\n",
    "\n",
    "import torch\n",
    "from torch.utils.data import Dataset\n",
    "import torch.nn.utils.rnn as rnn_utils\n",
    "\n",
    "import torchaudio\n",
    "\n",
    "import wavencoder\n",
    "import librosa\n",
    "import random\n",
    "\n",
    "def collate_fn(batch):\n",
    "    (seq, wav_duration, label) = zip(*batch)\n",
    "    seql = [x.reshape(-1,) for x in seq]\n",
    "    seq_length = [x.shape[0] for x in seql]\n",
    "    data = rnn_utils.pad_sequence(seql, batch_first=True, padding_value=0)\n",
    "    return data, seq_length, label\n",
    "\n",
    "class LIDDataset(Dataset):\n",
    "    def __init__(self,\n",
    "    CSVPath,\n",
    "    hparams,\n",
    "    is_train=True,\n",
    "    ):\n",
    "        self.CSVPath = CSVPath\n",
    "        self.data = pd.read_csv(CSVPath).values\n",
    "        self.is_train = is_train\n",
    "        self.classes = {\n",
    "            'ara-acm': torch.eye(14)[0], \n",
    "            'ara-apc': torch.eye(14)[1], \n",
    "            'ara-ary': torch.eye(14)[2], \n",
    "            'ara-arz': torch.eye(14)[3], \n",
    "            'eng-gbr': torch.eye(14)[4], \n",
    "            'eng-usg': torch.eye(14)[5], \n",
    "            'qsl-pol': torch.eye(14)[6], \n",
    "            'qsl-rus': torch.eye(14)[7], \n",
    "            'por-brz': torch.eye(14)[8], \n",
    "            'spa-car': torch.eye(14)[9], \n",
    "            'spa-eur': torch.eye(14)[10], \n",
    "            'spa-lac': torch.eye(14)[11], \n",
    "            'zho-cmn': torch.eye(14)[12], \n",
    "            'zho-nan': torch.eye(14)[13]\n",
    "            }\n",
    "        self.upsample = torchaudio.transforms.Resample(orig_freq=8000, new_freq=16000)\n",
    "        # self.train_transform = wavencoder.transforms.PadCrop(pad_crop_length=16000*6, pad_position='random', crop_position='random')\n",
    "        # self.test_transform = wavencoder.transforms.PadCrop(pad_crop_length=16000*6, pad_position='left', crop_position='center')\n",
    "\n",
    "    def __len__(self):\n",
    "        return self.data.shape[0]\n",
    "    \n",
    "    def __getitem__(self, idx):\n",
    "        if torch.is_tensor(idx):\n",
    "            idx = idx.tolist()\n",
    "        \n",
    "        file = self.data[idx][0]\n",
    "        language = self.classes[self.data[idx][1]]\n",
    "\n",
    "        wav, _ = librosa.load(file, sr=8000)\n",
    "        wav = torch.from_numpy(wav)\n",
    "        \n",
    "        if(self.data.shape[1] == 3):\n",
    "            wav_duration = self.data[idx][2]\n",
    "        else:\n",
    "            wav_duration = -1\n",
    "\n",
    "        return wav, torch.FloatTensor([wav_duration]), language\n",
    "\n",
    "train_set = LIDDataset(\n",
    "    CSVPath = hparams.train_path,\n",
    "    hparams = hparams,\n",
    "    is_train=False,\n",
    ")\n",
    "val_set = LIDDataset(\n",
    "    CSVPath = hparams.val_path,\n",
    "    hparams = hparams,\n",
    "    is_train=False,\n",
    ")\n",
    "test_set = LIDDataset(\n",
    "    CSVPath = hparams.test_path,\n",
    "    hparams = hparams,\n",
    "    is_train=False,\n",
    ")"
   ]
  },
  {
   "cell_type": "code",
   "execution_count": 3,
   "metadata": {},
   "outputs": [
    {
     "data": {
      "text/plain": [
       "('/root/LRE2017Dataset/LRE2017/LRE2017_Eval/lre17/data/eval/lre17_srlrablb.sph',\n",
       "                                            audiopath    class  seconds\n",
       " 0  /root/LRE2017Dataset/LRE2017/LRE2017_Eval/lre1...  ara-acm        3\n",
       " 1  /root/LRE2017Dataset/LRE2017/LRE2017_Eval/lre1...  qsl-rus       10\n",
       " 2  /root/LRE2017Dataset/LRE2017/LRE2017_Eval/lre1...  ara-ary       10\n",
       " 3  /root/LRE2017Dataset/LRE2017/LRE2017_Eval/lre1...  spa-lac       30\n",
       " 4  /root/LRE2017Dataset/LRE2017/LRE2017_Eval/lre1...  ara-apc       10)"
      ]
     },
     "execution_count": 3,
     "metadata": {},
     "output_type": "execute_result"
    }
   ],
   "source": [
    "import pandas as pd\n",
    "df = pd.read_csv(hparams.test_path)\n",
    "df['audiopath'][0], df.head()"
   ]
  },
  {
   "cell_type": "code",
   "execution_count": 18,
   "metadata": {},
   "outputs": [
    {
     "ename": "OSError",
     "evalue": "[Errno 9] Bad file descriptor",
     "output_type": "error",
     "traceback": [
      "\u001b[0;31m---------------------------------------------------------------------------\u001b[0m",
      "\u001b[0;31mOSError\u001b[0m                                   Traceback (most recent call last)",
      "\u001b[1;32m/root/Langid/LangID-LRE17/datatest.ipynb Cell 3\u001b[0m in \u001b[0;36m<module>\u001b[0;34m\u001b[0m\n\u001b[1;32m      <a href='vscode-notebook-cell://ssh-remote%2B164.52.216.125/root/Langid/LangID-LRE17/datatest.ipynb#X13sdnNjb2RlLXJlbW90ZQ%3D%3D?line=0'>1</a>\u001b[0m \u001b[39mimport\u001b[39;00m \u001b[39mIPython\u001b[39;00m\n\u001b[1;32m      <a href='vscode-notebook-cell://ssh-remote%2B164.52.216.125/root/Langid/LangID-LRE17/datatest.ipynb#X13sdnNjb2RlLXJlbW90ZQ%3D%3D?line=1'>2</a>\u001b[0m wav, sr \u001b[39m=\u001b[39m librosa\u001b[39m.\u001b[39mload(df[\u001b[39m'\u001b[39m\u001b[39maudiopath\u001b[39m\u001b[39m'\u001b[39m][\u001b[39m0\u001b[39m])\n\u001b[0;32m----> <a href='vscode-notebook-cell://ssh-remote%2B164.52.216.125/root/Langid/LangID-LRE17/datatest.ipynb#X13sdnNjb2RlLXJlbW90ZQ%3D%3D?line=2'>3</a>\u001b[0m IPython\u001b[39m.\u001b[39;49mdisplay\u001b[39m.\u001b[39;49mAudio(wav\u001b[39m.\u001b[39;49mreshape(\u001b[39m-\u001b[39;49m\u001b[39m1\u001b[39;49m), sr)\n",
      "File \u001b[0;32m~/.pyenv/versions/3.9.2/lib/python3.9/site-packages/IPython/lib/display.py:125\u001b[0m, in \u001b[0;36mAudio.__init__\u001b[0;34m(self, data, filename, url, embed, rate, autoplay, normalize, element_id)\u001b[0m\n\u001b[1;32m    123\u001b[0m \u001b[39mself\u001b[39m\u001b[39m.\u001b[39mautoplay \u001b[39m=\u001b[39m autoplay\n\u001b[1;32m    124\u001b[0m \u001b[39mself\u001b[39m\u001b[39m.\u001b[39melement_id \u001b[39m=\u001b[39m element_id\n\u001b[0;32m--> 125\u001b[0m \u001b[39msuper\u001b[39;49m(Audio, \u001b[39mself\u001b[39;49m)\u001b[39m.\u001b[39;49m\u001b[39m__init__\u001b[39;49m(data\u001b[39m=\u001b[39;49mdata, url\u001b[39m=\u001b[39;49murl, filename\u001b[39m=\u001b[39;49mfilename)\n\u001b[1;32m    127\u001b[0m \u001b[39mif\u001b[39;00m \u001b[39mself\u001b[39m\u001b[39m.\u001b[39mdata \u001b[39mis\u001b[39;00m \u001b[39mnot\u001b[39;00m \u001b[39mNone\u001b[39;00m \u001b[39mand\u001b[39;00m \u001b[39mnot\u001b[39;00m \u001b[39misinstance\u001b[39m(\u001b[39mself\u001b[39m\u001b[39m.\u001b[39mdata, \u001b[39mbytes\u001b[39m):\n\u001b[1;32m    128\u001b[0m     \u001b[39mif\u001b[39;00m rate \u001b[39mis\u001b[39;00m \u001b[39mNone\u001b[39;00m:\n",
      "File \u001b[0;32m~/.pyenv/versions/3.9.2/lib/python3.9/site-packages/IPython/core/display.py:327\u001b[0m, in \u001b[0;36mDisplayObject.__init__\u001b[0;34m(self, data, url, filename, metadata)\u001b[0m\n\u001b[1;32m    324\u001b[0m \u001b[39melif\u001b[39;00m \u001b[39mself\u001b[39m\u001b[39m.\u001b[39mmetadata \u001b[39mis\u001b[39;00m \u001b[39mNone\u001b[39;00m:\n\u001b[1;32m    325\u001b[0m     \u001b[39mself\u001b[39m\u001b[39m.\u001b[39mmetadata \u001b[39m=\u001b[39m {}\n\u001b[0;32m--> 327\u001b[0m \u001b[39mself\u001b[39;49m\u001b[39m.\u001b[39;49mreload()\n\u001b[1;32m    328\u001b[0m \u001b[39mself\u001b[39m\u001b[39m.\u001b[39m_check_data()\n",
      "File \u001b[0;32m~/.pyenv/versions/3.9.2/lib/python3.9/site-packages/IPython/lib/display.py:136\u001b[0m, in \u001b[0;36mAudio.reload\u001b[0;34m(self)\u001b[0m\n\u001b[1;32m    134\u001b[0m \u001b[39mimport\u001b[39;00m \u001b[39mmimetypes\u001b[39;00m\n\u001b[1;32m    135\u001b[0m \u001b[39mif\u001b[39;00m \u001b[39mself\u001b[39m\u001b[39m.\u001b[39membed:\n\u001b[0;32m--> 136\u001b[0m     \u001b[39msuper\u001b[39;49m(Audio, \u001b[39mself\u001b[39;49m)\u001b[39m.\u001b[39;49mreload()\n\u001b[1;32m    138\u001b[0m \u001b[39mif\u001b[39;00m \u001b[39mself\u001b[39m\u001b[39m.\u001b[39mfilename \u001b[39mis\u001b[39;00m \u001b[39mnot\u001b[39;00m \u001b[39mNone\u001b[39;00m:\n\u001b[1;32m    139\u001b[0m     \u001b[39mself\u001b[39m\u001b[39m.\u001b[39mmimetype \u001b[39m=\u001b[39m mimetypes\u001b[39m.\u001b[39mguess_type(\u001b[39mself\u001b[39m\u001b[39m.\u001b[39mfilename)[\u001b[39m0\u001b[39m]\n",
      "File \u001b[0;32m~/.pyenv/versions/3.9.2/lib/python3.9/site-packages/IPython/core/display.py:352\u001b[0m, in \u001b[0;36mDisplayObject.reload\u001b[0;34m(self)\u001b[0m\n\u001b[1;32m    350\u001b[0m \u001b[39m\"\"\"Reload the raw data from file or URL.\"\"\"\u001b[39;00m\n\u001b[1;32m    351\u001b[0m \u001b[39mif\u001b[39;00m \u001b[39mself\u001b[39m\u001b[39m.\u001b[39mfilename \u001b[39mis\u001b[39;00m \u001b[39mnot\u001b[39;00m \u001b[39mNone\u001b[39;00m:\n\u001b[0;32m--> 352\u001b[0m     \u001b[39mwith\u001b[39;00m \u001b[39mopen\u001b[39;49m(\u001b[39mself\u001b[39;49m\u001b[39m.\u001b[39;49mfilename, \u001b[39mself\u001b[39;49m\u001b[39m.\u001b[39;49m_read_flags) \u001b[39mas\u001b[39;00m f:\n\u001b[1;32m    353\u001b[0m         \u001b[39mself\u001b[39m\u001b[39m.\u001b[39mdata \u001b[39m=\u001b[39m f\u001b[39m.\u001b[39mread()\n\u001b[1;32m    354\u001b[0m \u001b[39melif\u001b[39;00m \u001b[39mself\u001b[39m\u001b[39m.\u001b[39murl \u001b[39mis\u001b[39;00m \u001b[39mnot\u001b[39;00m \u001b[39mNone\u001b[39;00m:\n\u001b[1;32m    355\u001b[0m     \u001b[39m# Deferred import\u001b[39;00m\n",
      "\u001b[0;31mOSError\u001b[0m: [Errno 9] Bad file descriptor"
     ]
    },
    {
     "ename": "",
     "evalue": "",
     "output_type": "error",
     "traceback": [
      "\u001b[1;31mThe Kernel crashed while executing code in the the current cell or a previous cell. Please review the code in the cell(s) to identify a possible cause of the failure. Click <a href='https://aka.ms/vscodeJupyterKernelCrash'>here</a> for more info. View Jupyter <a href='command:jupyter.viewOutput'>log</a> for further details."
     ]
    }
   ],
   "source": [
    "import IPython\n",
    "wav, sr = librosa.load(df['audiopath'][0])\n",
    "IPython.display.Audio(wav.reshape(-1), sr)"
   ]
  },
  {
   "cell_type": "code",
   "execution_count": 17,
   "metadata": {},
   "outputs": [
    {
     "data": {
      "text/plain": [
       "array([ 0.09729354,  0.11681715,  0.11750314, ..., -0.00251748,\n",
       "       -0.00157617,  0.        ], dtype=float32)"
      ]
     },
     "execution_count": 17,
     "metadata": {},
     "output_type": "execute_result"
    }
   ],
   "source": [
    "wav.reshape(-1)"
   ]
  },
  {
   "cell_type": "code",
   "execution_count": 9,
   "metadata": {},
   "outputs": [
    {
     "name": "stdout",
     "output_type": "stream",
     "text": [
      "22050\n",
      "22050\n",
      "22050\n",
      "22050\n",
      "22050\n",
      "22050\n",
      "22050\n",
      "22050\n",
      "22050\n",
      "22050\n",
      "22050\n",
      "22050\n",
      "22050\n",
      "22050\n",
      "22050\n",
      "22050\n",
      "22050\n",
      "22050\n",
      "22050\n",
      "22050\n",
      "22050\n",
      "22050\n",
      "22050\n",
      "22050\n",
      "22050\n",
      "22050\n",
      "22050\n",
      "22050\n",
      "22050\n",
      "22050\n"
     ]
    },
    {
     "ename": "KeyboardInterrupt",
     "evalue": "",
     "output_type": "error",
     "traceback": [
      "\u001b[0;31m---------------------------------------------------------------------------\u001b[0m",
      "\u001b[0;31mKeyboardInterrupt\u001b[0m                         Traceback (most recent call last)",
      "\u001b[1;32m/root/Langid/LangID-LRE17/datatest.ipynb Cell 3\u001b[0m in \u001b[0;36m<module>\u001b[0;34m\u001b[0m\n\u001b[1;32m      <a href='vscode-notebook-cell://ssh-remote%2B164.52.216.125/root/Langid/LangID-LRE17/datatest.ipynb#X12sdnNjb2RlLXJlbW90ZQ%3D%3D?line=0'>1</a>\u001b[0m \u001b[39mfor\u001b[39;00m i \u001b[39min\u001b[39;00m \u001b[39mrange\u001b[39m(\u001b[39mlen\u001b[39m(df[\u001b[39m'\u001b[39m\u001b[39maudiopath\u001b[39m\u001b[39m'\u001b[39m])):\n\u001b[0;32m----> <a href='vscode-notebook-cell://ssh-remote%2B164.52.216.125/root/Langid/LangID-LRE17/datatest.ipynb#X12sdnNjb2RlLXJlbW90ZQ%3D%3D?line=1'>2</a>\u001b[0m     _, sr \u001b[39m=\u001b[39m librosa\u001b[39m.\u001b[39;49mload(df[\u001b[39m'\u001b[39;49m\u001b[39maudiopath\u001b[39;49m\u001b[39m'\u001b[39;49m][i])\n\u001b[1;32m      <a href='vscode-notebook-cell://ssh-remote%2B164.52.216.125/root/Langid/LangID-LRE17/datatest.ipynb#X12sdnNjb2RlLXJlbW90ZQ%3D%3D?line=2'>3</a>\u001b[0m     \u001b[39mprint\u001b[39m(sr)\n",
      "File \u001b[0;32m~/.pyenv/versions/3.9.2/lib/python3.9/site-packages/librosa/core/audio.py:175\u001b[0m, in \u001b[0;36mload\u001b[0;34m(path, sr, mono, offset, duration, dtype, res_type)\u001b[0m\n\u001b[1;32m    172\u001b[0m     y \u001b[39m=\u001b[39m to_mono(y)\n\u001b[1;32m    174\u001b[0m \u001b[39mif\u001b[39;00m sr \u001b[39mis\u001b[39;00m \u001b[39mnot\u001b[39;00m \u001b[39mNone\u001b[39;00m:\n\u001b[0;32m--> 175\u001b[0m     y \u001b[39m=\u001b[39m resample(y, sr_native, sr, res_type\u001b[39m=\u001b[39;49mres_type)\n\u001b[1;32m    177\u001b[0m \u001b[39melse\u001b[39;00m:\n\u001b[1;32m    178\u001b[0m     sr \u001b[39m=\u001b[39m sr_native\n",
      "File \u001b[0;32m~/.pyenv/versions/3.9.2/lib/python3.9/site-packages/librosa/core/audio.py:604\u001b[0m, in \u001b[0;36mresample\u001b[0;34m(y, orig_sr, target_sr, res_type, fix, scale, **kwargs)\u001b[0m\n\u001b[1;32m    602\u001b[0m     y_hat \u001b[39m=\u001b[39m soxr\u001b[39m.\u001b[39mresample(y\u001b[39m.\u001b[39mT, orig_sr, target_sr, quality\u001b[39m=\u001b[39mres_type)\u001b[39m.\u001b[39mT\n\u001b[1;32m    603\u001b[0m \u001b[39melse\u001b[39;00m:\n\u001b[0;32m--> 604\u001b[0m     y_hat \u001b[39m=\u001b[39m resampy\u001b[39m.\u001b[39;49mresample(y, orig_sr, target_sr, \u001b[39mfilter\u001b[39;49m\u001b[39m=\u001b[39;49mres_type, axis\u001b[39m=\u001b[39;49m\u001b[39m-\u001b[39;49m\u001b[39m1\u001b[39;49m)\n\u001b[1;32m    606\u001b[0m \u001b[39mif\u001b[39;00m fix:\n\u001b[1;32m    607\u001b[0m     y_hat \u001b[39m=\u001b[39m util\u001b[39m.\u001b[39mfix_length(y_hat, n_samples, \u001b[39m*\u001b[39m\u001b[39m*\u001b[39mkwargs)\n",
      "File \u001b[0;32m~/.pyenv/versions/3.9.2/lib/python3.9/site-packages/resampy/core.py:120\u001b[0m, in \u001b[0;36mresample\u001b[0;34m(x, sr_orig, sr_new, axis, filter, **kwargs)\u001b[0m\n\u001b[1;32m    118\u001b[0m x_2d \u001b[39m=\u001b[39m x\u001b[39m.\u001b[39mswapaxes(\u001b[39m0\u001b[39m, axis)\u001b[39m.\u001b[39mreshape((x\u001b[39m.\u001b[39mshape[axis], \u001b[39m-\u001b[39m\u001b[39m1\u001b[39m))\n\u001b[1;32m    119\u001b[0m y_2d \u001b[39m=\u001b[39m y\u001b[39m.\u001b[39mswapaxes(\u001b[39m0\u001b[39m, axis)\u001b[39m.\u001b[39mreshape((y\u001b[39m.\u001b[39mshape[axis], \u001b[39m-\u001b[39m\u001b[39m1\u001b[39m))\n\u001b[0;32m--> 120\u001b[0m resample_f(x_2d, y_2d, sample_ratio, interp_win, interp_delta, precision)\n\u001b[1;32m    122\u001b[0m \u001b[39mreturn\u001b[39;00m y\n",
      "\u001b[0;31mKeyboardInterrupt\u001b[0m: "
     ]
    }
   ],
   "source": [
    "for i in range(len(df['audiopath'])):\n",
    "    wav, sr = librosa.load(df['audiopath'][i])\n",
    "    print(sr)"
   ]
  },
  {
   "cell_type": "code",
   "execution_count": 29,
   "metadata": {},
   "outputs": [
    {
     "name": "stderr",
     "output_type": "stream",
     "text": [
      "100%|██████████| 25222/25222 [00:07<00:00, 3442.04it/s]\n"
     ]
    },
    {
     "data": {
      "text/plain": [
       "(8.789905637935137, 30, 3)"
      ]
     },
     "execution_count": 29,
     "metadata": {},
     "output_type": "execute_result"
    },
    {
     "data": {
      "image/png": "[encoded data removed]",
      "text/plain": [
       "<Figure size 432x288 with 1 Axes>"
      ]
     },
     "metadata": {
      "needs_background": "light"
     },
     "output_type": "display_data"
    }
   ],
   "source": [
    "lens = []\n",
    "for i in tqdm(range(len(train_set))):\n",
    "    wav_len = int(train_set[i][0].shape[-1]/8000)\n",
    "    lens.append(wav_len)\n",
    "_= plt.hist(lens)\n",
    "sum(lens)/len(lens), max(lens), min(lens)"
   ]
  },
  {
   "cell_type": "code",
   "execution_count": 30,
   "metadata": {},
   "outputs": [
    {
     "name": "stderr",
     "output_type": "stream",
     "text": [
      "100%|██████████| 2787/2787 [00:01<00:00, 2520.96it/s]\n"
     ]
    },
    {
     "data": {
      "text/plain": [
       "(20.78471474703983, 89, 3)"
      ]
     },
     "execution_count": 30,
     "metadata": {},
     "output_type": "execute_result"
    },
    {
     "data": {
      "image/png": "[encoded data removed]",
      "text/plain": [
       "<Figure size 432x288 with 1 Axes>"
      ]
     },
     "metadata": {
      "needs_background": "light"
     },
     "output_type": "display_data"
    }
   ],
   "source": [
    "lens = []\n",
    "for i in tqdm(range(len(val_set))):\n",
    "    wav_len = int(val_set[i][0].shape[-1]/8000)\n",
    "    lens.append(wav_len)\n",
    "_= plt.hist(lens)\n",
    "sum(lens)/len(lens), max(lens), min(lens)"
   ]
  },
  {
   "cell_type": "code",
   "execution_count": 31,
   "metadata": {},
   "outputs": [
    {
     "name": "stderr",
     "output_type": "stream",
     "text": [
      "100%|██████████| 21930/21930 [00:09<00:00, 2433.81it/s]\n"
     ]
    },
    {
     "data": {
      "text/plain": [
       "(21.255038759689924, 90, 3)"
      ]
     },
     "execution_count": 31,
     "metadata": {},
     "output_type": "execute_result"
    },
    {
     "data": {
      "image/png": "[encoded data removed]",
      "text/plain": [
       "<Figure size 432x288 with 1 Axes>"
      ]
     },
     "metadata": {
      "needs_background": "light"
     },
     "output_type": "display_data"
    }
   ],
   "source": [
    "lens = []\n",
    "for i in tqdm(range(len(test_set))):\n",
    "    wav_len = int(test_set[i][0].shape[-1]/8000)\n",
    "    lens.append(wav_len)\n",
    "_= plt.hist(lens)\n",
    "sum(lens)/len(lens), max(lens), min(lens)"
   ]
  },
  {
   "cell_type": "code",
   "execution_count": null,
   "metadata": {},
   "outputs": [],
   "source": []
  },
  {
   "cell_type": "code",
   "execution_count": 5,
   "metadata": {},
   "outputs": [],
   "source": [
    "from Datasets.datasetLID import LIDDataset\n",
    "import os\n",
    "from argparse import ArgumentParser\n",
    "\n",
    "import torch\n",
    "import torch.utils.data as data\n",
    "from config import LIDConfig\n",
    "from Datasets.datasetLID import collate_fn\n",
    "import matplotlib.pyplot as plt\n",
    "import pytorch_lightning as pl\n",
    "from tqdm import tqdm\n",
    "\n",
    "# SEED=100\n",
    "# pl.utilities.seed.seed_everything(SEED)\n",
    "# torch.manual_seed(SEED)\n",
    "\n",
    "\n",
    "hparams = LIDConfig()\n",
    "\n",
    "import pandas as pd\n",
    "\n",
    "import torch\n",
    "from torch.utils.data import Dataset\n",
    "import torch.nn.utils.rnn as rnn_utils\n",
    "\n",
    "import torchaudio\n",
    "\n",
    "import wavencoder\n",
    "import librosa\n",
    "import random\n",
    "train_set = LIDDataset(\n",
    "    CSVPath = hparams.train_path,\n",
    "    hparams = hparams,\n",
    "    is_train=True,\n",
    ")"
   ]
  },
  {
   "cell_type": "code",
   "execution_count": 6,
   "metadata": {},
   "outputs": [
    {
     "data": {
      "text/plain": [
       "[<matplotlib.lines.Line2D at 0x7f971767da90>]"
      ]
     },
     "execution_count": 6,
     "metadata": {},
     "output_type": "execute_result"
    },
    {
     "data": {
      "image/png": "[encoded data removed]",
      "text/plain": [
       "<Figure size 432x288 with 1 Axes>"
      ]
     },
     "metadata": {
      "needs_background": "light"
     },
     "output_type": "display_data"
    },
    {
     "ename": "",
     "evalue": "",
     "output_type": "error",
     "traceback": [
      "\u001b[1;31mThe Kernel crashed while executing code in the the current cell or a previous cell. Please review the code in the cell(s) to identify a possible cause of the failure. Click <a href='https://aka.ms/vscodeJupyterKernelCrash'>here</a> for more info. View Jupyter <a href='command:jupyter.viewOutput'>log</a> for further details."
     ]
    }
   ],
   "source": [
    "wav = train_set[0][0].view(-1)\n",
    "plt.plot(wav)\n"
   ]
  },
  {
   "cell_type": "code",
   "execution_count": null,
   "metadata": {},
   "outputs": [],
   "source": [
    "import wavencoder\n",
    "import torch\n",
    "\n",
    "x = torch.randn(1, 16000)\n",
    "trans = wavencoder.transforms.TimeMask"
   ]
  },
  {
   "cell_type": "code",
   "execution_count": 19,
   "metadata": {},
   "outputs": [
    {
     "name": "stdout",
     "output_type": "stream",
     "text": [
      "(85775,)\n",
      "(62241,)\n"
     ]
    }
   ],
   "source": [
    "import pandas as pd\n",
    "import librosa\n",
    "import soundfile as sf\n",
    "\n",
    "TARGET_SR = 16000\n",
    "df = pd.read_csv(hparams.test_path)\n",
    "\n",
    "\n",
    "for i in range(len(df)):\n",
    "    file_name = df['audiopath'][0]\n",
    "    wav, sr = librosa.load(file_name)\n",
    "    wav = librosa.resample(wav, orig_sr=sr, target_sr=TARGET_SR)\n",
    "    save_path = \"/root/LRE2017Dataset/LRE2017/LRE2017_Eval/lre17/data/eval_16k/\"\n",
    "    sf.write(save_path + file_name.split(\"/\")[-1].split(\".\")[0]+\".wav\", wav, TARGET_SR)"
   ]
  },
  {
   "cell_type": "code",
   "execution_count": 13,
   "metadata": {},
   "outputs": [
    {
     "data": {
      "text/plain": [
       "'/root/LRE2017Dataset/LRE2017/LRE2017_Eval/lre17/data/eval/lre17_srlrablb.sph'"
      ]
     },
     "execution_count": 13,
     "metadata": {},
     "output_type": "execute_result"
    }
   ],
   "source": [
    "file_name"
   ]
  },
  {
   "cell_type": "code",
   "execution_count": 4,
   "metadata": {},
   "outputs": [
    {
     "data": {
      "text/html": [
       "<div>\n",
       "<style scoped>\n",
       "    .dataframe tbody tr th:only-of-type {\n",
       "        vertical-align: middle;\n",
       "    }\n",
       "\n",
       "    .dataframe tbody tr th {\n",
       "        vertical-align: top;\n",
       "    }\n",
       "\n",
       "    .dataframe thead th {\n",
       "        text-align: right;\n",
       "    }\n",
       "</style>\n",
       "<table border=\"1\" class=\"dataframe\">\n",
       "  <thead>\n",
       "    <tr style=\"text-align: right;\">\n",
       "      <th></th>\n",
       "      <th>audiopath</th>\n",
       "      <th>class</th>\n",
       "      <th>seconds</th>\n",
       "    </tr>\n",
       "  </thead>\n",
       "  <tbody>\n",
       "    <tr>\n",
       "      <th>0</th>\n",
       "      <td>/root/LRE2017Dataset/LRE2017_16k/eval/lre17_sr...</td>\n",
       "      <td>ara-acm</td>\n",
       "      <td>3</td>\n",
       "    </tr>\n",
       "    <tr>\n",
       "      <th>1</th>\n",
       "      <td>/root/LRE2017Dataset/LRE2017_16k/eval/lre17_il...</td>\n",
       "      <td>qsl-rus</td>\n",
       "      <td>10</td>\n",
       "    </tr>\n",
       "    <tr>\n",
       "      <th>2</th>\n",
       "      <td>/root/LRE2017Dataset/LRE2017_16k/eval/lre17_vn...</td>\n",
       "      <td>ara-ary</td>\n",
       "      <td>10</td>\n",
       "    </tr>\n",
       "    <tr>\n",
       "      <th>3</th>\n",
       "      <td>/root/LRE2017Dataset/LRE2017_16k/eval/lre17_rl...</td>\n",
       "      <td>spa-lac</td>\n",
       "      <td>30</td>\n",
       "    </tr>\n",
       "    <tr>\n",
       "      <th>4</th>\n",
       "      <td>/root/LRE2017Dataset/LRE2017_16k/eval/lre17_ks...</td>\n",
       "      <td>ara-apc</td>\n",
       "      <td>10</td>\n",
       "    </tr>\n",
       "  </tbody>\n",
       "</table>\n",
       "</div>"
      ],
      "text/plain": [
       "                                           audiopath    class  seconds\n",
       "0  /root/LRE2017Dataset/LRE2017_16k/eval/lre17_sr...  ara-acm        3\n",
       "1  /root/LRE2017Dataset/LRE2017_16k/eval/lre17_il...  qsl-rus       10\n",
       "2  /root/LRE2017Dataset/LRE2017_16k/eval/lre17_vn...  ara-ary       10\n",
       "3  /root/LRE2017Dataset/LRE2017_16k/eval/lre17_rl...  spa-lac       30\n",
       "4  /root/LRE2017Dataset/LRE2017_16k/eval/lre17_ks...  ara-apc       10"
      ]
     },
     "execution_count": 4,
     "metadata": {},
     "output_type": "execute_result"
    },
    {
     "ename": "",
     "evalue": "",
     "output_type": "error",
     "traceback": [
      "\u001b[1;31mThe Kernel crashed while executing code in the the current cell or a previous cell. Please review the code in the cell(s) to identify a possible cause of the failure. Click <a href='https://aka.ms/vscodeJupyterKernelCrash'>here</a> for more info. View Jupyter <a href='command:jupyter.viewOutput'>log</a> for further details."
     ]
    }
   ],
   "source": [
    "import pandas as pd\n",
    "\n",
    "\n",
    "csv_path = \"/root/LRE2017Dataset/LRE2017_16k/testset.csv\"\n",
    "df = pd.read_csv(csv_path)\n",
    "# df[\"audiopath\"] = df[\"audiopath\"].str.replace('.sph', '.wav')\n",
    "df = df.drop(\"Unnamed: 0\",axis=1)\n",
    "# df = df.drop(\"Unnamed: 0.1\",axis=1)\n",
    "df.to_csv(csv_path, index=False)\n",
    "df.head()"
   ]
  },
  {
   "cell_type": "code",
   "execution_count": 4,
   "metadata": {},
   "outputs": [
    {
     "name": "stdout",
     "output_type": "stream",
     "text": [
      "/root/LRE2017Dataset/LRE2017_16k/dev/lre17_ccjr.wav.wav\n"
     ]
    }
   ],
   "source": [
    "import pandas as pd\n",
    "\n",
    "\n",
    "csv_path = \"/root/LRE2017Dataset/LRE2017_16k/valset.csv\"\n",
    "df = pd.read_csv(csv_path)\n",
    "\n",
    "for index, row in df.iterrows():\n",
    "    file = row[\"audiopath\"]\n",
    "    if file.endswith(\".wav.wav\"):\n",
    "        print(file)\n",
    "        "
   ]
  },
  {
   "cell_type": "code",
   "execution_count": 5,
   "metadata": {},
   "outputs": [
    {
     "data": {
      "text/plain": [
       "'/root/LRE2017Dataset/LRE2017_16k/dev/lre17_ccjr.wav'"
      ]
     },
     "execution_count": 5,
     "metadata": {},
     "output_type": "execute_result"
    }
   ],
   "source": [
    "file = \"/root/LRE2017Dataset/LRE2017_16k/dev/lre17_ccjr.wav.wav\"\n",
    "file[:-4]"
   ]
  },
  {
   "cell_type": "code",
   "execution_count": null,
   "metadata": {},
   "outputs": [],
   "source": []
  }
 ],
 "metadata": {
  "kernelspec": {
   "display_name": "Python 3.9.2 64-bit ('3.9.2')",
   "language": "python",
   "name": "python3"
  },
  "language_info": {
   "codemirror_mode": {
    "name": "ipython",
    "version": 3
   },
   "file_extension": ".py",
   "mimetype": "text/x-python",
   "name": "python",
   "nbconvert_exporter": "python",
   "pygments_lexer": "ipython3",
   "version": "3.9.2"
  },
  "orig_nbformat": 4,
  "vscode": {
   "interpreter": {
    "hash": "2d7b087156161fb625e4a6c422e95b511bfa45e0ec345ce3e52f6d7ffde7b07a"
   }
  }
 },
 "nbformat": 4,
 "nbformat_minor": 2
}
