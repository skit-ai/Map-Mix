{
 "cells": [
  {
   "cell_type": "code",
   "execution_count": null,
   "metadata": {},
   "outputs": [],
   "source": [
    "import pandas as pd\n",
    "import librosa\n",
    "import soundfile as sf\n",
    "from tqdm import tqdm \n",
    "\n",
    "BASE_PATH = \"/root/LRE2017Dataset/LRE2017_16k/\"\n",
    "TARGET_SR = 16000\n",
    "\n",
    "# TEST SET\n",
    "df = pd.read_csv(\"/root/LRE2017Dataset/LRE2017/lre17-test-set-less-than-60.csv\")\n",
    "save_path = \"/root/LRE2017Dataset/LRE2017_16k/eval/\"\n",
    "\n",
    "for i in tqdm(range(len(df))):\n",
    "    file_name = df['audiopath'][i]\n",
    "    wav, sr = librosa.load(file_name)\n",
    "    wav = librosa.resample(wav, orig_sr=sr, target_sr=TARGET_SR)\n",
    "    out_file = save_path + file_name.split(\"/\")[-1].split(\".\")[0]+\".wav\"\n",
    "    sf.write(out_file, wav, TARGET_SR)\n",
    "\n",
    "\n",
    "df[\"audiopath\"] = \"/root/LRE2017Dataset/LRE2017_16k/eval/\" + df[\"audiopath\"].str.split(\"/\").str[-1]\n",
    "df.to_csv(BASE_PATH+\"testset.csv\")\n",
    "print(df[\"audiopath\"].head())"
   ]
  },
  {
   "cell_type": "code",
   "execution_count": null,
   "metadata": {},
   "outputs": [],
   "source": [
    "df[\"audiopath\"] = \"/root/LRE2017Dataset/LRE2017_16k/eval/\" + df[\"audiopath\"].str.split(\"/\").str[-1]\n",
    "df[\"audiopath\"]"
   ]
  },
  {
   "cell_type": "code",
   "execution_count": 3,
   "metadata": {},
   "outputs": [
    {
     "data": {
      "text/plain": [
       "'/root/LRE2017Dataset/LRE2017/LDC2017E22_2017_NIST_Language_Recognition_Evaluation_Training_Data/new-segmented-data-1/por-brz/10-0-20131012_213841_6123_B.wav'"
      ]
     },
     "execution_count": 3,
     "metadata": {},
     "output_type": "execute_result"
    }
   ],
   "source": [
    "import pandas as pd\n",
    "\n",
    "\n",
    "\n",
    "df = pd.read_csv(\"/root/LRE2017Dataset/LRE2017/lre17-segmented-train-set-5-hour-each-set-1.csv\")\n",
    "df['audiopath'][100]"
   ]
  },
  {
   "cell_type": "code",
   "execution_count": 4,
   "metadata": {},
   "outputs": [
    {
     "name": "stderr",
     "output_type": "stream",
     "text": [
      "  0%|          | 2/25222 [00:00<2:43:49,  2.57it/s]"
     ]
    },
    {
     "name": "stdout",
     "output_type": "stream",
     "text": [
      "/root/LRE2017Dataset/LRE2017_16k/train/set1/0-zsjya.wav\n",
      "/root/LRE2017Dataset/LRE2017_16k/train/set1/0-zyaok.wav\n"
     ]
    },
    {
     "name": "stderr",
     "output_type": "stream",
     "text": [
      "  0%|          | 3/25222 [00:01<4:26:42,  1.58it/s]"
     ]
    },
    {
     "name": "stdout",
     "output_type": "stream",
     "text": [
      "/root/LRE2017Dataset/LRE2017_16k/train/set1/0-znvey.wav\n"
     ]
    },
    {
     "name": "stderr",
     "output_type": "stream",
     "text": [
      "  0%|          | 4/25222 [00:02<3:54:27,  1.79it/s]"
     ]
    },
    {
     "name": "stdout",
     "output_type": "stream",
     "text": [
      "/root/LRE2017Dataset/LRE2017_16k/train/set1/10-1-20131012_213841_6123_B.wav\n"
     ]
    },
    {
     "name": "stderr",
     "output_type": "stream",
     "text": [
      "  0%|          | 5/25222 [00:02<4:18:15,  1.63it/s]"
     ]
    },
    {
     "name": "stdout",
     "output_type": "stream",
     "text": [
      "/root/LRE2017Dataset/LRE2017_16k/train/set1/1-zjoet.wav\n"
     ]
    },
    {
     "name": "stderr",
     "output_type": "stream",
     "text": [
      "  0%|          | 6/25222 [00:03<3:43:23,  1.88it/s]"
     ]
    },
    {
     "name": "stdout",
     "output_type": "stream",
     "text": [
      "/root/LRE2017Dataset/LRE2017_16k/train/set1/1-zzvgj.wav\n"
     ]
    },
    {
     "name": "stderr",
     "output_type": "stream",
     "text": [
      "  0%|          | 7/25222 [00:03<3:12:33,  2.18it/s]"
     ]
    },
    {
     "name": "stdout",
     "output_type": "stream",
     "text": [
      "/root/LRE2017Dataset/LRE2017_16k/train/set1/0-zzxqm.wav\n"
     ]
    },
    {
     "name": "stderr",
     "output_type": "stream",
     "text": [
      "  0%|          | 9/25222 [00:04<2:12:09,  3.18it/s]"
     ]
    },
    {
     "name": "stdout",
     "output_type": "stream",
     "text": [
      "/root/LRE2017Dataset/LRE2017_16k/train/set1/0-695200_ch0.wav\n",
      "/root/LRE2017Dataset/LRE2017_16k/train/set1/0-zswbq.wav\n"
     ]
    },
    {
     "name": "stderr",
     "output_type": "stream",
     "text": [
      "  0%|          | 10/25222 [00:04<2:14:30,  3.12it/s]"
     ]
    },
    {
     "name": "stdout",
     "output_type": "stream",
     "text": [
      "/root/LRE2017Dataset/LRE2017_16k/train/set1/0-zspkn.wav\n"
     ]
    },
    {
     "name": "stderr",
     "output_type": "stream",
     "text": [
      "  0%|          | 11/25222 [00:04<2:33:32,  2.74it/s]"
     ]
    },
    {
     "name": "stdout",
     "output_type": "stream",
     "text": [
      "/root/LRE2017Dataset/LRE2017_16k/train/set1/0-zwykz.wav\n"
     ]
    },
    {
     "name": "stderr",
     "output_type": "stream",
     "text": [
      "  0%|          | 11/25222 [00:05<3:22:29,  2.08it/s]\n"
     ]
    },
    {
     "ename": "KeyboardInterrupt",
     "evalue": "",
     "output_type": "error",
     "traceback": [
      "\u001b[0;31m---------------------------------------------------------------------------\u001b[0m",
      "\u001b[0;31mKeyboardInterrupt\u001b[0m                         Traceback (most recent call last)",
      "\u001b[1;32m/root/Langid/LangID-LRE17/data_process.ipynb Cell 4\u001b[0m in \u001b[0;36m<module>\u001b[0;34m\u001b[0m\n\u001b[1;32m     <a href='vscode-notebook-cell://ssh-remote%2B164.52.216.125/root/Langid/LangID-LRE17/data_process.ipynb#W3sdnNjb2RlLXJlbW90ZQ%3D%3D?line=12'>13</a>\u001b[0m \u001b[39mfor\u001b[39;00m i \u001b[39min\u001b[39;00m tqdm(\u001b[39mrange\u001b[39m(\u001b[39mlen\u001b[39m(df))):\n\u001b[1;32m     <a href='vscode-notebook-cell://ssh-remote%2B164.52.216.125/root/Langid/LangID-LRE17/data_process.ipynb#W3sdnNjb2RlLXJlbW90ZQ%3D%3D?line=13'>14</a>\u001b[0m     file_name \u001b[39m=\u001b[39m df[\u001b[39m'\u001b[39m\u001b[39maudiopath\u001b[39m\u001b[39m'\u001b[39m][i]\n\u001b[0;32m---> <a href='vscode-notebook-cell://ssh-remote%2B164.52.216.125/root/Langid/LangID-LRE17/data_process.ipynb#W3sdnNjb2RlLXJlbW90ZQ%3D%3D?line=14'>15</a>\u001b[0m     wav, sr \u001b[39m=\u001b[39m librosa\u001b[39m.\u001b[39;49mload(file_name)\n\u001b[1;32m     <a href='vscode-notebook-cell://ssh-remote%2B164.52.216.125/root/Langid/LangID-LRE17/data_process.ipynb#W3sdnNjb2RlLXJlbW90ZQ%3D%3D?line=15'>16</a>\u001b[0m     wav \u001b[39m=\u001b[39m librosa\u001b[39m.\u001b[39mresample(wav, orig_sr\u001b[39m=\u001b[39msr, target_sr\u001b[39m=\u001b[39mTARGET_SR)\n\u001b[1;32m     <a href='vscode-notebook-cell://ssh-remote%2B164.52.216.125/root/Langid/LangID-LRE17/data_process.ipynb#W3sdnNjb2RlLXJlbW90ZQ%3D%3D?line=16'>17</a>\u001b[0m     out_file \u001b[39m=\u001b[39m save_path \u001b[39m+\u001b[39m file_name\u001b[39m.\u001b[39msplit(\u001b[39m\"\u001b[39m\u001b[39m/\u001b[39m\u001b[39m\"\u001b[39m)[\u001b[39m-\u001b[39m\u001b[39m1\u001b[39m]\u001b[39m.\u001b[39msplit(\u001b[39m\"\u001b[39m\u001b[39m.\u001b[39m\u001b[39m\"\u001b[39m)[\u001b[39m0\u001b[39m]\u001b[39m+\u001b[39m\u001b[39m\"\u001b[39m\u001b[39m.wav\u001b[39m\u001b[39m\"\u001b[39m\n",
      "File \u001b[0;32m~/.pyenv/versions/3.9.2/lib/python3.9/site-packages/librosa/core/audio.py:175\u001b[0m, in \u001b[0;36mload\u001b[0;34m(path, sr, mono, offset, duration, dtype, res_type)\u001b[0m\n\u001b[1;32m    172\u001b[0m     y \u001b[39m=\u001b[39m to_mono(y)\n\u001b[1;32m    174\u001b[0m \u001b[39mif\u001b[39;00m sr \u001b[39mis\u001b[39;00m \u001b[39mnot\u001b[39;00m \u001b[39mNone\u001b[39;00m:\n\u001b[0;32m--> 175\u001b[0m     y \u001b[39m=\u001b[39m resample(y, sr_native, sr, res_type\u001b[39m=\u001b[39;49mres_type)\n\u001b[1;32m    177\u001b[0m \u001b[39melse\u001b[39;00m:\n\u001b[1;32m    178\u001b[0m     sr \u001b[39m=\u001b[39m sr_native\n",
      "File \u001b[0;32m~/.pyenv/versions/3.9.2/lib/python3.9/site-packages/librosa/core/audio.py:604\u001b[0m, in \u001b[0;36mresample\u001b[0;34m(y, orig_sr, target_sr, res_type, fix, scale, **kwargs)\u001b[0m\n\u001b[1;32m    602\u001b[0m     y_hat \u001b[39m=\u001b[39m soxr\u001b[39m.\u001b[39mresample(y\u001b[39m.\u001b[39mT, orig_sr, target_sr, quality\u001b[39m=\u001b[39mres_type)\u001b[39m.\u001b[39mT\n\u001b[1;32m    603\u001b[0m \u001b[39melse\u001b[39;00m:\n\u001b[0;32m--> 604\u001b[0m     y_hat \u001b[39m=\u001b[39m resampy\u001b[39m.\u001b[39;49mresample(y, orig_sr, target_sr, \u001b[39mfilter\u001b[39;49m\u001b[39m=\u001b[39;49mres_type, axis\u001b[39m=\u001b[39;49m\u001b[39m-\u001b[39;49m\u001b[39m1\u001b[39;49m)\n\u001b[1;32m    606\u001b[0m \u001b[39mif\u001b[39;00m fix:\n\u001b[1;32m    607\u001b[0m     y_hat \u001b[39m=\u001b[39m util\u001b[39m.\u001b[39mfix_length(y_hat, n_samples, \u001b[39m*\u001b[39m\u001b[39m*\u001b[39mkwargs)\n",
      "File \u001b[0;32m~/.pyenv/versions/3.9.2/lib/python3.9/site-packages/resampy/core.py:120\u001b[0m, in \u001b[0;36mresample\u001b[0;34m(x, sr_orig, sr_new, axis, filter, **kwargs)\u001b[0m\n\u001b[1;32m    118\u001b[0m x_2d \u001b[39m=\u001b[39m x\u001b[39m.\u001b[39mswapaxes(\u001b[39m0\u001b[39m, axis)\u001b[39m.\u001b[39mreshape((x\u001b[39m.\u001b[39mshape[axis], \u001b[39m-\u001b[39m\u001b[39m1\u001b[39m))\n\u001b[1;32m    119\u001b[0m y_2d \u001b[39m=\u001b[39m y\u001b[39m.\u001b[39mswapaxes(\u001b[39m0\u001b[39m, axis)\u001b[39m.\u001b[39mreshape((y\u001b[39m.\u001b[39mshape[axis], \u001b[39m-\u001b[39m\u001b[39m1\u001b[39m))\n\u001b[0;32m--> 120\u001b[0m resample_f(x_2d, y_2d, sample_ratio, interp_win, interp_delta, precision)\n\u001b[1;32m    122\u001b[0m \u001b[39mreturn\u001b[39;00m y\n",
      "\u001b[0;31mKeyboardInterrupt\u001b[0m: "
     ]
    },
    {
     "ename": "",
     "evalue": "",
     "output_type": "error",
     "traceback": [
      "\u001b[1;31mThe Kernel crashed while executing code in the the current cell or a previous cell. Please review the code in the cell(s) to identify a possible cause of the failure. Click <a href='https://aka.ms/vscodeJupyterKernelCrash'>here</a> for more info. View Jupyter <a href='command:jupyter.viewOutput'>log</a> for further details."
     ]
    }
   ],
   "source": [
    "import pandas as pd\n",
    "import librosa\n",
    "import soundfile as sf\n",
    "from tqdm import tqdm \n",
    "\n",
    "BASE_PATH = \"/root/LRE2017Dataset/LRE2017_16k/\"\n",
    "TARGET_SR = 16000\n",
    "\n",
    "# TEST SET\n",
    "df = pd.read_csv(\"/root/LRE2017Dataset/LRE2017/lre17-segmented-train-set-5-hour-each-set-1.csv\")\n",
    "save_path = \"/root/LRE2017Dataset/LRE2017_16k/train/set1/\"\n",
    "\n",
    "for i in tqdm(range(len(df))):\n",
    "    file_name = df['audiopath'][i]\n",
    "    wav, sr = librosa.load(file_name)\n",
    "    wav = librosa.resample(wav, orig_sr=sr, target_sr=TARGET_SR)\n",
    "    out_file = save_path + file_name.split(\"/\")[-1].split(\".\")[0]+\".wav\"\n",
    "    # sf.write(out_file, wav, TARGET_SR)\n",
    "    print(out_file)\n",
    "\n",
    "\n",
    "df[\"audiopath\"] = save_path + df[\"audiopath\"].str.split(\"/\").str[-1]\n",
    "# df.to_csv(BASE_PATH+\"trainset1.csv\")\n",
    "print(df[\"audiopath\"].head())"
   ]
  },
  {
   "cell_type": "code",
   "execution_count": 1,
   "metadata": {},
   "outputs": [
    {
     "data": {
      "text/plain": [
       "'/root/LRE2017Dataset/LRE2017/LDC2017E22_2017_NIST_Language_Recognition_Evaluation_Training_Data/new-segmented-data-1/por-brz/0-zsjya.wav'"
      ]
     },
     "execution_count": 1,
     "metadata": {},
     "output_type": "execute_result"
    }
   ],
   "source": [
    "import pandas as pd\n",
    "df = pd.read_csv(\"/root/LRE2017Dataset/LRE2017/lre17-segmented-train-set-5-hour-each-set-1.csv\")\n",
    "df[\"audiopath\"][0]"
   ]
  },
  {
   "cell_type": "code",
   "execution_count": 2,
   "metadata": {},
   "outputs": [
    {
     "data": {
      "text/plain": [
       "'/root/LRE2017Dataset/LRE2017/LDC2017E22_2017_NIST_Language_Recognition_Evaluation_Training_Data/new-segmented-data-2/por-brz/0-zsjya.wav'"
      ]
     },
     "execution_count": 2,
     "metadata": {},
     "output_type": "execute_result"
    }
   ],
   "source": [
    "df = pd.read_csv(\"/root/LRE2017Dataset/LRE2017/lre17-segmented-train-set-5-hour-each-set-2.csv\")\n",
    "df[\"audiopath\"][0]"
   ]
  },
  {
   "cell_type": "code",
   "execution_count": 3,
   "metadata": {},
   "outputs": [
    {
     "data": {
      "text/plain": [
       "'/root/LRE2017Dataset/LRE2017/LDC2017E22_2017_NIST_Language_Recognition_Evaluation_Training_Data/new-segmented-data-3/por-brz/0-zsjya.wav'"
      ]
     },
     "execution_count": 3,
     "metadata": {},
     "output_type": "execute_result"
    }
   ],
   "source": [
    "df = pd.read_csv(\"/root/LRE2017Dataset/LRE2017/lre17-segmented-train-set-5-hour-each-set-3.csv\")\n",
    "df[\"audiopath\"][0]"
   ]
  },
  {
   "cell_type": "code",
   "execution_count": null,
   "metadata": {},
   "outputs": [],
   "source": []
  }
 ],
 "metadata": {
  "kernelspec": {
   "display_name": "Python 3.9.2 64-bit ('3.9.2')",
   "language": "python",
   "name": "python3"
  },
  "language_info": {
   "codemirror_mode": {
    "name": "ipython",
    "version": 3
   },
   "file_extension": ".py",
   "mimetype": "text/x-python",
   "name": "python",
   "nbconvert_exporter": "python",
   "pygments_lexer": "ipython3",
   "version": "3.9.2"
  },
  "orig_nbformat": 4,
  "vscode": {
   "interpreter": {
    "hash": "2d7b087156161fb625e4a6c422e95b511bfa45e0ec345ce3e52f6d7ffde7b07a"
   }
  }
 },
 "nbformat": 4,
 "nbformat_minor": 2
}
